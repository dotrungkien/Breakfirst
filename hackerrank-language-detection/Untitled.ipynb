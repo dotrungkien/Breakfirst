{
 "cells": [
  {
   "cell_type": "code",
   "execution_count": 63,
   "metadata": {},
   "outputs": [
    {
     "name": "stdout",
     "output_type": "stream",
     "text": [
      "100 ['a', 'about', 'all', 'also', 'and', 'as', 'at', 'be', 'because', 'but', 'by', 'can', 'come', 'could', 'day', 'do', 'even', 'find', 'first', 'for', 'from', 'get', 'give', 'go', 'have', 'he', 'her', 'here', 'him', 'his', 'how', 'I', 'if', 'in', 'into', 'it', 'its', 'just', 'know', 'like', 'look', 'make', 'man', 'many', 'me', 'more', 'my', 'new', 'no', 'not', 'now', 'of', 'on', 'one', 'only', 'or', 'other', 'our', 'out', 'people', 'say', 'see', 'she', 'so', 'some', 'take', 'tell', 'than', 'that', 'the', 'their', 'them', 'then', 'there', 'these', 'they', 'thing', 'think', 'this', 'those', 'time', 'to', 'two', 'up', 'use', 'very', 'want', 'way', 'we', 'well', 'what', 'when', 'which', 'who', 'will', 'with', 'would', 'year', 'you', 'you']\n"
     ]
    }
   ],
   "source": [
    "with open('en2.txt', 'r') as f:\n",
    "    en = f.readlines()\n",
    "en = [i[:-1] for i  in en]\n",
    "print(len(en), en)"
   ]
  },
  {
   "cell_type": "code",
   "execution_count": 64,
   "metadata": {},
   "outputs": [
    {
     "name": "stdout",
     "output_type": "stream",
     "text": [
      "100 ['le', 'de', 'un', 'à', 'être', 'et', 'en', 'avoir', 'que', 'pour', 'dans', 'ce', 'il', 'qui', 'ne', 'sur', 'se', 'pas', 'plus', 'pouvoir', 'par', 'je', 'avec', 'tout', 'faire', 'son', 'mettre', 'autre', 'on', 'mais', 'nous', 'comme', 'ou', 'si', 'leur', 'y', 'dire', 'elle', 'devoir', 'avant', 'deux', 'même', 'prendre', 'aussi', 'celui', 'donner', 'bien', 'où', 'fois', 'vous', 'encore', 'nouveau', 'aller', 'cela', 'entre', 'premier', 'vouloir', 'déjà', 'grand', 'mon', 'me', 'moins', 'aucun', 'lui', 'temps', 'très', 'savoir', 'falloir', 'voir', 'quelque', 'sans', 'raison', 'notre', 'dont', 'non', 'an', 'monde', 'jour', 'monsieur', 'demander', 'alors', 'après', 'trouver', 'personne', 'rendre', 'part', 'dernier', 'venir', 'pendant', 'passer', 'peu', 'lequel', 'suite', 'bon', 'comprendre', 'depuis', 'point', 'ainsi', 'heure', 'rester']\n"
     ]
    }
   ],
   "source": [
    "with open('fr2.txt', 'r') as f:\n",
    "    fr = f.readlines()\n",
    "fr = [i.split() [1] for i  in fr]\n",
    "print(len(fr), fr)"
   ]
  },
  {
   "cell_type": "code",
   "execution_count": 66,
   "metadata": {},
   "outputs": [
    {
     "name": "stdout",
     "output_type": "stream",
     "text": [
      "100 ['der', 'und', 'sein', 'in', 'ein', 'zu', 'haben', 'ich', 'werden', 'sie', 'von', 'nicht', 'mit', 'es', 'sich', 'auch', 'auf', 'für', 'an', 'er', 'so', 'dass', 'können', 'dies', 'als', 'ihr', 'ja', 'wie', 'bei', 'oder', 'wir', 'aber', 'dann', 'man', 'da', 'sein', 'noch', 'nach', 'was', 'also', 'aus', 'all', 'wenn', 'nur', 'müssen', 'sagen', 'um', 'über', 'machen', 'kein', 'Jahr', 'du', 'mein', 'schon', 'vor', 'durch', 'geben', 'mehr', 'andere,', 'viel', 'kommen', 'jetzt', 'sollen', 'mir', 'wollen', 'ganz', 'mich', 'immer', 'gehen', 'sehr', 'hier', 'doch', 'bis', 'groß', 'wieder', 'Mal', 'zwei', 'gut', 'wissen', 'neu', 'sehen', 'lassen', 'uns', 'weil', 'unter', 'denn', 'stehen', 'jede,', 'Beispiel,', 'Zeit,', 'erste,', 'ihm', 'ihn', 'wo', 'lang', 'eigentlich', 'damit', 'selbst,', 'unser', 'oben']\n"
     ]
    }
   ],
   "source": [
    "with open('gr2.txt', 'r') as f:\n",
    "    gr = f.readlines()\n",
    "gr = [i.split()[1] for i  in gr]\n",
    "print(len(gr), gr)"
   ]
  },
  {
   "cell_type": "code",
   "execution_count": 65,
   "metadata": {},
   "outputs": [
    {
     "name": "stdout",
     "output_type": "stream",
     "text": [
      "100 ['el', 'de', 'que', 'y', 'a', 'en', 'un', 'ser', 'se', 'no', 'haber', 'por', 'con', 'su', 'para', 'como', 'estar', 'tener', 'le', 'lo', 'lo', 'todo', 'pero', 'más', 'hacer', 'o', 'poder', 'decir', 'este', 'ir', 'otro', 'ese', 'la', 'si', 'me', 'ya', 'ver', 'porque', 'dar', 'cuando', 'él', 'muy', 'sin', 'vez', 'mucho', 'saber', 'qué', 'sobre', 'mi', 'alguno', 'mismo', 'yo', 'también', 'hasta', 'año', 'dos', 'querer', 'entre', 'así', 'primero', 'desde', 'grande', 'eso', 'ni', 'nos', 'llegar', 'pasar', 'tiempo', 'ella', 'sí', 'día', 'uno', 'bien', 'poco', 'deber', 'entonces', 'poner', 'cosa', 'tanto', 'hombre', 'parecer', 'nuestro', 'tan', 'donde', 'ahora', 'parte', 'después', 'vida', 'quedar', 'siempre', 'creer', 'hablar', 'llevar', 'dejar', 'nada', 'cada', 'seguir', 'menos', 'nuevo', 'encontrar']\n"
     ]
    }
   ],
   "source": [
    "with open('sp2.txt', 'r') as f:\n",
    "    sp = f.readlines()\n",
    "sp = [i.split()[1]  for i  in sp]\n",
    "print(len(sp), sp)"
   ]
  },
  {
   "cell_type": "code",
   "execution_count": 9,
   "metadata": {
    "collapsed": true
   },
   "outputs": [],
   "source": [
    "s = \"The story of Rip Van Winkle is set in the years before and after the American Revolutionary War. In a pleasant village, at the foot of New York's Catskill Mountains, lives kindly Rip Van Winkle, a Dutch villager. Van Winkle enjoys solitary activities in the wilderness, but he is also loved by all in town—especially the children to whom he tells stories and gives toys. However, he tends to shirk hard work, to his nagging wife's dismay, which has caused his home and farm to fall into disarray. One autumn day, to escape his wife's nagging, Van Winkle wanders up the mountains with his dog, Wolf. Hearing his name called out, Rip sees a man wearing antiquated Dutch clothing; he is carrying a keg up the mountain and requires help. \""
   ]
  },
  {
   "cell_type": "code",
   "execution_count": 19,
   "metadata": {},
   "outputs": [
    {
     "data": {
      "text/plain": [
       "(112, 82, 46, 99)"
      ]
     },
     "execution_count": 19,
     "metadata": {},
     "output_type": "execute_result"
    }
   ],
   "source": [
    "enc = sum([s.count(i) for i in en])\n",
    "frc = sum([s.count(i) for i in fr])\n",
    "grc = sum([s.count(i) for i in gr])\n",
    "spc = sum([s.count(i) for i in sp])\n",
    "enc, frc, grc, spc"
   ]
  },
  {
   "cell_type": "code",
   "execution_count": 61,
   "metadata": {
    "collapsed": true
   },
   "outputs": [],
   "source": [
    "import re\n",
    "lang_most_freq = {'English': ['a', 'about', 'all', 'also', 'and', 'as', 'at', 'be', 'because', 'but', 'by', 'can', 'come', 'could', 'day', 'do', 'even', 'find', 'first', 'for', 'from', 'get', 'give', 'go', 'have', 'he', 'her', 'here', 'him', 'his', 'how', 'I', 'if', 'in', 'into', 'it', 'its', 'just', 'know', 'like', 'look', 'make', 'man', 'many', 'me', 'more', 'my', 'new', 'no', 'not', 'now', 'of', 'on', 'one', 'only', 'or', 'other', 'our', 'out', 'people', 'say', 'see', 'she', 'so', 'some', 'take', 'tell', 'than', 'that', 'the', 'their', 'them', 'then', 'there', 'these', 'they', 'thing', 'think', 'this', 'those', 'time', 'to', 'two', 'up', 'use', 'very', 'want', 'way', 'we', 'well', 'what', 'when', 'which', 'who', 'will', 'with', 'would', 'year', 'you', 'you'],\n",
    "'French': ['le', 'de', 'un', 'à', 'être', 'et', 'en', 'avoir', 'que', 'pour', 'dans', 'ce', 'il', 'qui', 'ne', 'sur', 'se', 'pas', 'plus', 'pouvoir', 'par', 'je', 'avec', 'tout', 'faire', 'son', 'mettre', 'autre', 'on', 'mais', 'nous', 'comme', 'ou', 'si', 'leur', 'y', 'dire', 'elle', 'devoir', 'avant', 'deux', 'même', 'prendre', 'aussi', 'celui', 'donner', 'bien', 'où', 'fois', 'vous', 'encore', 'nouveau', 'aller', 'cela', 'entre', 'premier', 'vouloir', 'déjà', 'grand', 'mon', 'me', 'moins', 'aucun', 'lui', 'temps', 'très', 'savoir', 'falloir', 'voir', 'quelque', 'sans', 'raison', 'notre', 'dont', 'non', 'an', 'monde', 'jour', 'monsieur', 'demander', 'alors', 'après', 'trouver', 'personne', 'rendre', 'part', 'dernier', 'venir', 'pendant', 'passer', 'peu', 'lequel', 'suite', 'bon', 'comprendre', 'depuis', 'point', 'ainsi', 'heure', 'rester'],\n",
    "'German': ['der', 'und', 'sein', 'in', 'ein', 'zu', 'haben', 'ich', 'werden', 'sie', 'von', 'nicht', 'mit', 'es', 'sich', 'auch', 'auf', 'für', 'an', 'er', 'so', 'dass', 'können', 'dies', 'als', 'ihr', 'ja', 'wie', 'bei', 'oder', 'wir', 'aber', 'dann', 'man', 'da', 'sein', 'noch', 'nach', 'was', 'also', 'aus', 'all', 'wenn', 'nur', 'müssen', 'sagen', 'um', 'über', 'machen', 'kein', 'Jahr', 'du', 'mein', 'schon', 'vor', 'durch', 'geben', 'mehr', 'andere,', 'viel', 'kommen', 'jetzt', 'sollen', 'mir', 'wollen', 'ganz', 'mich', 'immer', 'gehen', 'sehr', 'hier', 'doch', 'bis', 'groß', 'wieder', 'Mal', 'zwei', 'gut', 'wissen', 'neu', 'sehen', 'lassen', 'uns', 'weil', 'unter', 'denn', 'stehen', 'jede,', 'Beispiel,', 'Zeit,', 'erste,', 'ihm', 'ihn', 'wo', 'lang', 'eigentlich', 'damit', 'selbst,', 'unser', 'oben'],\n",
    "'Spanish': ['el', 'de', 'que', 'y', 'a', 'en', 'un', 'ser', 'se', 'no', 'haber', 'por', 'con', 'su', 'para', 'como', 'estar', 'tener', 'le', 'lo', 'lo', 'todo', 'pero', 'más', 'hacer', 'o', 'poder', 'decir', 'este', 'ir', 'otro', 'ese', 'la', 'si', 'me', 'ya', 'ver', 'porque', 'dar', 'cuando', 'él', 'muy', 'sin', 'vez', 'mucho', 'saber', 'qué', 'sobre', 'mi', 'alguno', 'mismo', 'yo', 'también', 'hasta', 'año', 'dos', 'querer', 'entre', 'así', 'primero', 'desde', 'grande', 'eso', 'ni', 'nos', 'llegar', 'pasar', 'tiempo', 'ella', 'sí', 'día', 'uno', 'bien', 'poco', 'deber', 'entonces', 'poner', 'cosa', 'tanto', 'hombre', 'parecer', 'nuestro', 'tan', 'donde', 'ahora', 'parte', 'después', 'vida', 'quedar', 'siempre', 'creer', 'hablar', 'llevar', 'dejar', 'nada', 'cada', 'seguir', 'menos', 'nuevo', 'encontrar']}\n",
    "\n",
    "def detect_language(s):\n",
    "    s_split = [i.lower() for i in re.findall('\\w+', s)]\n",
    "    en_score = 0\n",
    "    fr_score = 0\n",
    "    gr_score = 0\n",
    "    sp_score = 0\n",
    "    for word in s_split:\n",
    "        if word in lang_most_freq['English']:\n",
    "            en_score += 1\n",
    "        if word in lang_most_freq['French']:\n",
    "            fr_score += 1\n",
    "        if word in lang_most_freq['German']:\n",
    "            gr_score += 1\n",
    "        if word in lang_most_freq['Spanish']:\n",
    "            sp_score += 1\n",
    "    max_score = max(en_score, fr_score, gr_score, sp_score)\n",
    "    if en_score == max_score: return 'English'\n",
    "    if fr_score == max_score: return 'French'\n",
    "    if gr_score == max_score: return 'German'\n",
    "    if sp_score == max_score: return 'Spanish'\n"
   ]
  },
  {
   "cell_type": "code",
   "execution_count": 23,
   "metadata": {},
   "outputs": [
    {
     "data": {
      "text/plain": [
       "'English'"
      ]
     },
     "execution_count": 23,
     "metadata": {},
     "output_type": "execute_result"
    }
   ],
   "source": [
    "detect_language(s)"
   ]
  },
  {
   "cell_type": "code",
   "execution_count": 62,
   "metadata": {},
   "outputs": [
    {
     "data": {
      "text/plain": [
       "'German'"
      ]
     },
     "execution_count": 62,
     "metadata": {},
     "output_type": "execute_result"
    }
   ],
   "source": [
    "import re\n",
    "\n",
    "s2 = \"\"\"Der Mann hatte einen Bart und war schon etwas älter; zu alt fast für die Frau.Und dann war auch noch das Kind da, ein ganz kleines.Das schrie dauernd, denn es hatte Hunger. Auch die Frau hatte Hunger. Aber sie war still, und wenn der Mann zu ihr hinsah, dann lächelte sie; oder sie versuchte es doch wenigstens. Der Mann hatte auch Hunger. Sie wussten nicht, wohin sie wollten; sie wussten nur, sie konnten in ihrer Heimat nicht bleiben, sie war zerstört.\n",
    "Sie liefen durch Wald, durch Kiefern. In denen knisterte es. Sonst war es still.Beeren oder Pilze gab es nicht; die hatte die Sonne verbrannt. Über den Schneisen flackerte Hitze. Das bisschen Wind wehte nur oben.Es war für den Bussard gut; Reh und Hase lagen hechelnd im Farn.\"\"\"\n",
    "detect_language(s2)"
   ]
  }
 ],
 "metadata": {
  "kernelspec": {
   "display_name": "Python 3",
   "language": "python",
   "name": "python3"
  },
  "language_info": {
   "codemirror_mode": {
    "name": "ipython",
    "version": 3
   },
   "file_extension": ".py",
   "mimetype": "text/x-python",
   "name": "python",
   "nbconvert_exporter": "python",
   "pygments_lexer": "ipython3",
   "version": "3.5.3"
  }
 },
 "nbformat": 4,
 "nbformat_minor": 2
}
