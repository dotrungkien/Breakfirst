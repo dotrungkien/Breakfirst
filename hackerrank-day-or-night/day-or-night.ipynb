{
 "cells": [
  {
   "cell_type": "code",
   "execution_count": 1,
   "metadata": {},
   "outputs": [],
   "source": [
    "from PIL import Image"
   ]
  },
  {
   "cell_type": "code",
   "execution_count": 4,
   "metadata": {},
   "outputs": [
    {
     "data": {
      "text/plain": [
       "(12, 2, 15)"
      ]
     },
     "execution_count": 4,
     "metadata": {},
     "output_type": "execute_result"
    }
   ],
   "source": [
    "night = Image.open('night00.jpg').convert('RGB')\n",
    "night.getpixel((0,0))"
   ]
  },
  {
   "cell_type": "code",
   "execution_count": 20,
   "metadata": {},
   "outputs": [
    {
     "name": "stdout",
     "output_type": "stream",
     "text": [
      "111.07817153992742\n"
     ]
    }
   ],
   "source": [
    "def reduce_mean(img_path):\n",
    "    img = Image.open(img_path).convert('RGB')\n",
    "    sum_pxl = 0\n",
    "    w, h = img.size\n",
    "    for wi in range(w):\n",
    "        for hi in range(h):\n",
    "            p = img.getpixel((wi, hi))\n",
    "            sum_pxl += sum(p)/3.0\n",
    "    mean = sum_pxl / (w*h)\n",
    "    return mean\n",
    "\n",
    "print(reduce_mean('day03.jpg'))"
   ]
  },
  {
   "cell_type": "code",
   "execution_count": null,
   "metadata": {},
   "outputs": [],
   "source": []
  }
 ],
 "metadata": {
  "kernelspec": {
   "display_name": "Python 3",
   "language": "python",
   "name": "python3"
  },
  "language_info": {
   "codemirror_mode": {
    "name": "ipython",
    "version": 3
   },
   "file_extension": ".py",
   "mimetype": "text/x-python",
   "name": "python",
   "nbconvert_exporter": "python",
   "pygments_lexer": "ipython3",
   "version": "3.5.2"
  }
 },
 "nbformat": 4,
 "nbformat_minor": 2
}
